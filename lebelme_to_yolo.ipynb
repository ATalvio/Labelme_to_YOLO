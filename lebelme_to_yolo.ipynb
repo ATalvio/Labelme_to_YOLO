{
 "cells": [
  {
   "cell_type": "code",
   "execution_count": 4,
   "id": "df769318-3ed8-4a40-a073-e8ca23c094e6",
   "metadata": {},
   "outputs": [],
   "source": [
    "import json\n",
    "import os"
   ]
  },
  {
   "cell_type": "code",
   "execution_count": 29,
   "id": "3a48a808-eb1d-4317-a303-07a73e561394",
   "metadata": {},
   "outputs": [
    {
     "name": "stdout",
     "output_type": "stream",
     "text": [
      "Used following numbers for lables:\n",
      "{'car': '0', 'ball': '1', 'plane': '2', 'person': '3'}\n"
     ]
    }
   ],
   "source": [
    "# Converting lebelme json annotations to yolo txt format.\n",
    "\n",
    "INPUT_JSON_DIR = \"examples_data/input_labelme/\"  # Path to labelme annotations.\n",
    "OUTPUT_TXT_DIR = \"examples_data/output_yolo/\"  # Path to output txt dir\n",
    "\n",
    "label_dict = {}  # You may manually add numbers for labels e.g. \"car\": 0\n",
    "i = 0  # Used for automaticaly assingning label numbers\n",
    "\n",
    "for fname in sorted(os.listdir(INPUT_JSON_DIR)):\n",
    "    yolo_string = ''\n",
    "    json_data = json.load(open(INPUT_JSON_DIR+fname))\n",
    "\n",
    "    img_w = json_data['imageWidth']\n",
    "    img_h = json_data['imageHeight']\n",
    "\n",
    "    for shape in json_data['shapes']:\n",
    "\n",
    "        label = shape[\"label\"]\n",
    "        # If label is missing from label_dict automatically add it.\n",
    "        if label not in list(label_dict.keys()):\n",
    "            label_dict[label] = str(i)\n",
    "            i += 1\n",
    "\n",
    "        curr_row = label_dict[label]\n",
    "\n",
    "        for point in shape['points']:\n",
    "            # Round with decimal precision of 5\n",
    "            curr_val_pair = \" \" + str(round((point[0]/img_w), 5)) + \" \" + str(round((point[1]/img_h), 5))\n",
    "            curr_row += curr_val_pair\n",
    "        yolo_string += curr_row + \"\\n\"\n",
    "\n",
    "    yolo_string = yolo_string.rstrip()  # Remove last line break\n",
    "\n",
    "    with open(OUTPUT_TXT_DIR + fname.replace(\"json\", \"txt\"), 'w') as f:\n",
    "        f.write(yolo_string)\n",
    "\n",
    "print(\"Used following numbers for lables:\")\n",
    "print(label_dict)\n"
   ]
  },
  {
   "cell_type": "code",
   "execution_count": null,
   "id": "35f8d914-86c6-4f9e-8e60-b4091c8d309f",
   "metadata": {},
   "outputs": [],
   "source": []
  }
 ],
 "metadata": {
  "kernelspec": {
   "display_name": "Python 3 (ipykernel)",
   "language": "python",
   "name": "python3"
  },
  "language_info": {
   "codemirror_mode": {
    "name": "ipython",
    "version": 3
   },
   "file_extension": ".py",
   "mimetype": "text/x-python",
   "name": "python",
   "nbconvert_exporter": "python",
   "pygments_lexer": "ipython3",
   "version": "3.9.7"
  }
 },
 "nbformat": 4,
 "nbformat_minor": 5
}
